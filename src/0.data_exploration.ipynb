{
 "cells": [
  {
   "cell_type": "markdown",
   "id": "6af6deee",
   "metadata": {},
   "source": [
    "## 对Google Patents Public Data的原始JSONL文件进行探索\n",
    "\n",
    "- 总字段数量：`37`\n",
    "- 标量字段数量：`16`\n",
    "  - 标量字段无需拆表，直接附在主表中即可包括：\n",
    "    - publication_number\n",
    "    - application_number\n",
    "    - country_code\n",
    "    - kind_code\n",
    "    - application_kind\n",
    "    - application_number_formatted\n",
    "    - pct_number\n",
    "    - family_id\n",
    "    - spif_publication_number\n",
    "    - spif_application_number\n",
    "    - publication_date\n",
    "    - filing_date\n",
    "    - grant_date\n",
    "    - priority_date\n",
    "    - entity_status\n",
    "    - art_unit\n",
    "- 复合字段数量：`21`\n",
    "  - 一对多关系，只需要拆分成子表即可，包括：\n",
    "    - title_localized\n",
    "    - abstract_localized\n",
    "    - claims_localized (仅限USPTO)\n",
    "    - description_localized（仅限USPTO）\n",
    "    - 一些分类号也可以牺牲存储空间，不再拆分实体表：\n",
    "      - uspc\n",
    "      - ipc\n",
    "      - cpc\n",
    "      - fi\n",
    "      - fterm\n",
    "      - locarno\n",
    "  - 多对多关系，需要首先建立实体表，再建立关系表，包括：\n",
    "    - inventor_harmonized\n",
    "    - assignee_harmonized\n",
    "    - examiner\n",
    "    - citation（实体表即主表，非专利引用需要用单独的表）\n",
    "    - priority_claim（实体表即主表）\n",
    "    - child（实体表即主表）\n",
    "    - parent（实体表即主表，可能和child字段部分冗余，但需要先解析再合并）\n",
    "  - 一些可以抛弃的脏字段\n",
    "    - claims_localized_html\n",
    "    - description_localized_html\n",
    "    - inventor\n",
    "    - assignee"
   ]
  },
  {
   "cell_type": "code",
   "execution_count": 1,
   "id": "34bb33de",
   "metadata": {},
   "outputs": [],
   "source": [
    "RAW_INPUT_PATH = r'../data/raw_input/patents-000000000000.jsonl'"
   ]
  },
  {
   "cell_type": "code",
   "execution_count": 2,
   "id": "1c2c8d71",
   "metadata": {},
   "outputs": [],
   "source": [
    "import json\n",
    "import random\n",
    "from tqdm import tqdm\n",
    "\n",
    "# seed\n",
    "random.seed(42)"
   ]
  },
  {
   "cell_type": "code",
   "execution_count": 3,
   "id": "6e5d3227",
   "metadata": {},
   "outputs": [
    {
     "name": "stderr",
     "output_type": "stream",
     "text": [
      "0it [00:00, ?it/s]"
     ]
    },
    {
     "name": "stderr",
     "output_type": "stream",
     "text": [
      "575it [00:00, 1339.89it/s]"
     ]
    },
    {
     "name": "stdout",
     "output_type": "stream",
     "text": [
      "已读取 575 条专利数据\n"
     ]
    },
    {
     "name": "stderr",
     "output_type": "stream",
     "text": [
      "\n"
     ]
    }
   ],
   "source": [
    "patent_records = []\n",
    "with open(RAW_INPUT_PATH, 'r', encoding='utf-8') as file:\n",
    "    for line in tqdm(file):\n",
    "        json_line = json.loads(line)\n",
    "        patent_records.append(json_line)\n",
    "\n",
    "print(f'已读取 {len(patent_records)} 条专利数据')\n",
    "\n",
    "random_patent = random.choice(patent_records)"
   ]
  },
  {
   "cell_type": "markdown",
   "id": "6134ea77",
   "metadata": {},
   "source": [
    "### 对字段类型进行统计\n",
    "\n",
    "有多少是标量数据类型，有多少是复合数据类型"
   ]
  },
  {
   "cell_type": "code",
   "execution_count": 12,
   "id": "b56c6577",
   "metadata": {},
   "outputs": [],
   "source": [
    "fields = [field for field in random_patent.keys()]\n",
    "scalar_fields = []\n",
    "complex_fields = []\n",
    "\n",
    "for field, value in random_patent.items():\n",
    "    if isinstance(value, (list)):\n",
    "        complex_fields.append(field)\n",
    "    else:\n",
    "        scalar_fields.append(field)"
   ]
  },
  {
   "cell_type": "code",
   "execution_count": 13,
   "id": "b9e03dad",
   "metadata": {},
   "outputs": [
    {
     "data": {
      "text/plain": [
       "37"
      ]
     },
     "execution_count": 13,
     "metadata": {},
     "output_type": "execute_result"
    }
   ],
   "source": [
    "len(fields)"
   ]
  },
  {
   "cell_type": "code",
   "execution_count": 14,
   "id": "b5a22463",
   "metadata": {},
   "outputs": [
    {
     "data": {
      "text/plain": [
       "(16, 21)"
      ]
     },
     "execution_count": 14,
     "metadata": {},
     "output_type": "execute_result"
    }
   ],
   "source": [
    "len(scalar_fields), len(complex_fields)"
   ]
  },
  {
   "cell_type": "code",
   "execution_count": 41,
   "id": "96c6831c",
   "metadata": {},
   "outputs": [
    {
     "name": "stdout",
     "output_type": "stream",
     "text": [
      "publication_number\n",
      "application_number\n",
      "country_code\n",
      "kind_code\n",
      "application_kind\n",
      "application_number_formatted\n",
      "pct_number\n",
      "family_id\n",
      "spif_publication_number\n",
      "spif_application_number\n",
      "publication_date\n",
      "filing_date\n",
      "grant_date\n",
      "priority_date\n",
      "entity_status\n",
      "art_unit\n"
     ]
    }
   ],
   "source": [
    "for i in scalar_fields:\n",
    "    print(i)"
   ]
  },
  {
   "cell_type": "code",
   "execution_count": 11,
   "id": "d23ff914",
   "metadata": {},
   "outputs": [
    {
     "data": {
      "text/plain": [
       "['publication_number',\n",
       " 'application_number',\n",
       " 'country_code',\n",
       " 'kind_code',\n",
       " 'application_kind',\n",
       " 'application_number_formatted',\n",
       " 'pct_number',\n",
       " 'family_id',\n",
       " 'spif_publication_number',\n",
       " 'spif_application_number',\n",
       " 'publication_date',\n",
       " 'filing_date',\n",
       " 'grant_date',\n",
       " 'priority_date',\n",
       " 'entity_status',\n",
       " 'art_unit']"
      ]
     },
     "execution_count": 11,
     "metadata": {},
     "output_type": "execute_result"
    }
   ],
   "source": [
    "scalar_fields"
   ]
  },
  {
   "cell_type": "code",
   "execution_count": 10,
   "id": "bbd6cdef",
   "metadata": {},
   "outputs": [
    {
     "data": {
      "text/plain": [
       "['title_localized',\n",
       " 'abstract_localized',\n",
       " 'claims_localized',\n",
       " 'claims_localized_html',\n",
       " 'description_localized',\n",
       " 'description_localized_html',\n",
       " 'priority_claim',\n",
       " 'inventor',\n",
       " 'inventor_harmonized',\n",
       " 'assignee',\n",
       " 'assignee_harmonized',\n",
       " 'examiner',\n",
       " 'uspc',\n",
       " 'ipc',\n",
       " 'cpc',\n",
       " 'fi',\n",
       " 'fterm',\n",
       " 'locarno',\n",
       " 'citation',\n",
       " 'parent',\n",
       " 'child']"
      ]
     },
     "execution_count": 10,
     "metadata": {},
     "output_type": "execute_result"
    }
   ],
   "source": [
    "complex_fields"
   ]
  },
  {
   "cell_type": "markdown",
   "id": "b025d629",
   "metadata": {},
   "source": [
    "### 对于复合类型字段，进一步查看其结构\n"
   ]
  },
  {
   "cell_type": "code",
   "execution_count": 39,
   "id": "e2d01b23",
   "metadata": {},
   "outputs": [
    {
     "name": "stdout",
     "output_type": "stream",
     "text": [
      "Field: title_localized\n",
      "  Sub-fields: ['text', 'language', 'truncated']\n",
      "Field: abstract_localized\n",
      "  Sub-fields: ['text', 'language', 'truncated']\n",
      "Field: claims_localized\n",
      "  Sub-fields: ['text', 'language', 'truncated']\n",
      "Field: claims_localized_html\n",
      "  Sub-fields: ['text', 'language', 'truncated']\n",
      "Field: description_localized\n",
      "  Sub-fields: ['text', 'language', 'truncated']\n",
      "Field: description_localized_html\n",
      "  Sub-fields: ['text', 'language', 'truncated']\n",
      "Field: priority_claim\n",
      "  Sub-fields: ['publication_number', 'application_number', 'npl_text', 'type', 'category', 'filing_date']\n",
      "Field: inventor\n",
      "  Sub-fields: 无进一步结构：<class 'str'>\n",
      "Field: inventor_harmonized\n",
      "  Sub-fields: ['name', 'country_code']\n",
      "Field: assignee\n",
      "  Sub-fields: 无进一步结构：<class 'str'>\n",
      "Field: assignee_harmonized\n",
      "  Sub-fields: ['name', 'country_code']\n",
      "Field: examiner\n",
      "  Sub-fields: []\n",
      "Field: uspc\n",
      "  Sub-fields: []\n",
      "Field: ipc\n",
      "  Sub-fields: ['code', 'inventive', 'first', 'tree']\n",
      "Field: cpc\n",
      "  Sub-fields: ['code', 'inventive', 'first', 'tree']\n",
      "Field: fi\n",
      "  Sub-fields: []\n",
      "Field: fterm\n",
      "  Sub-fields: []\n",
      "Field: locarno\n",
      "  Sub-fields: []\n",
      "Field: citation\n",
      "  Sub-fields: []\n",
      "Field: parent\n",
      "  Sub-fields: ['publication_number', 'application_number', 'npl_text', 'type', 'category', 'filing_date']\n",
      "Field: child\n",
      "  Sub-fields: []\n"
     ]
    }
   ],
   "source": [
    "random_patent = random.choice(patent_records)\n",
    "for field in complex_fields:\n",
    "    print(f\"Field: {field}\")\n",
    "    try:\n",
    "        sub_fields = random_patent[field][0].keys() if random_patent[field] else []\n",
    "        print(f\"  Sub-fields: {list(sub_fields)}\")\n",
    "    except AttributeError:\n",
    "        sub_fields = '无进一步结构：' + str(type(random_patent[field][0]))\n",
    "        print(f\"  Sub-fields: {sub_fields}\")"
   ]
  },
  {
   "cell_type": "code",
   "execution_count": 17,
   "id": "6a4c3177",
   "metadata": {},
   "outputs": [
    {
     "data": {
      "text/plain": [
       "['YAN BING', 'CHEN DEWEI', 'CHEN YINING', 'YANG CHANGZHOU']"
      ]
     },
     "execution_count": 17,
     "metadata": {},
     "output_type": "execute_result"
    }
   ],
   "source": [
    "random_patent['inventor']"
   ]
  },
  {
   "cell_type": "code",
   "execution_count": null,
   "id": "11138aef",
   "metadata": {},
   "outputs": [],
   "source": []
  }
 ],
 "metadata": {
  "kernelspec": {
   "display_name": "base",
   "language": "python",
   "name": "python3"
  },
  "language_info": {
   "codemirror_mode": {
    "name": "ipython",
    "version": 3
   },
   "file_extension": ".py",
   "mimetype": "text/x-python",
   "name": "python",
   "nbconvert_exporter": "python",
   "pygments_lexer": "ipython3",
   "version": "3.13.2"
  }
 },
 "nbformat": 4,
 "nbformat_minor": 5
}
